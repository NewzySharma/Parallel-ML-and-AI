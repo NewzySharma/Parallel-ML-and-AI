{
 "cells": [
  {
   "cell_type": "markdown",
   "metadata": {},
   "source": [
    "\n",
    "CSYE7105 Parallel Machine Learning & AI - 2020 Fall\n",
    "\n",
    "Instructor: Dr. Handan Liu\n",
    "\n",
    "Week 8-2: Grid Search Cross Validation in Parallel\n"
   ]
  },
  {
   "cell_type": "code",
   "execution_count": 1,
   "metadata": {},
   "outputs": [],
   "source": [
    "import numpy as np\n",
    "from sklearn.ensemble import ExtraTreesClassifier\n",
    "from sklearn.model_selection import GridSearchCV, StratifiedKFold\n",
    "from sklearn.datasets import make_classification\n",
    "from time import time"
   ]
  },
  {
   "cell_type": "code",
   "execution_count": null,
   "metadata": {},
   "outputs": [],
   "source": [
    "ExtraTreesClassifier"
   ]
  },
  {
   "cell_type": "code",
   "execution_count": 2,
   "metadata": {},
   "outputs": [],
   "source": [
    "# n_samples=int(1e6)\n",
    "X_train, y_train = make_classification(n_samples=10000, n_features=50, random_state=0)"
   ]
  },
  {
   "cell_type": "code",
   "execution_count": null,
   "metadata": {},
   "outputs": [],
   "source": []
  },
  {
   "cell_type": "code",
   "execution_count": 3,
   "metadata": {},
   "outputs": [],
   "source": [
    "model = ExtraTreesClassifier(class_weight='balanced')\n",
    "parameters = {'criterion': ['gini', 'entropy'],\n",
    "                       'min_samples_split' : [2, 4, 8],\n",
    "                       'max_depth' : [3, 10, 20]}"
   ]
  },
  {
   "cell_type": "code",
   "execution_count": null,
   "metadata": {},
   "outputs": [],
   "source": []
  },
  {
   "cell_type": "code",
   "execution_count": 4,
   "metadata": {},
   "outputs": [
    {
     "name": "stdout",
     "output_type": "stream",
     "text": [
      "Fitting 5 folds for each of 18 candidates, totalling 90 fits\n",
      "[CV] criterion=gini, max_depth=3, min_samples_split=2 ................\n"
     ]
    },
    {
     "name": "stderr",
     "output_type": "stream",
     "text": [
      "[Parallel(n_jobs=1)]: Using backend SequentialBackend with 1 concurrent workers.\n"
     ]
    },
    {
     "name": "stdout",
     "output_type": "stream",
     "text": [
      "[CV] . criterion=gini, max_depth=3, min_samples_split=2, total=   0.3s\n",
      "[CV] criterion=gini, max_depth=3, min_samples_split=2 ................\n"
     ]
    },
    {
     "name": "stderr",
     "output_type": "stream",
     "text": [
      "[Parallel(n_jobs=1)]: Done   1 out of   1 | elapsed:    0.2s remaining:    0.0s\n"
     ]
    },
    {
     "name": "stdout",
     "output_type": "stream",
     "text": [
      "[CV] . criterion=gini, max_depth=3, min_samples_split=2, total=   0.3s\n",
      "[CV] criterion=gini, max_depth=3, min_samples_split=2 ................\n",
      "[CV] . criterion=gini, max_depth=3, min_samples_split=2, total=   0.3s\n",
      "[CV] criterion=gini, max_depth=3, min_samples_split=2 ................\n",
      "[CV] . criterion=gini, max_depth=3, min_samples_split=2, total=   0.3s\n",
      "[CV] criterion=gini, max_depth=3, min_samples_split=2 ................\n",
      "[CV] . criterion=gini, max_depth=3, min_samples_split=2, total=   0.3s\n",
      "[CV] criterion=gini, max_depth=3, min_samples_split=4 ................\n",
      "[CV] . criterion=gini, max_depth=3, min_samples_split=4, total=   0.3s\n",
      "[CV] criterion=gini, max_depth=3, min_samples_split=4 ................\n",
      "[CV] . criterion=gini, max_depth=3, min_samples_split=4, total=   0.3s\n",
      "[CV] criterion=gini, max_depth=3, min_samples_split=4 ................\n",
      "[CV] . criterion=gini, max_depth=3, min_samples_split=4, total=   0.3s\n",
      "[CV] criterion=gini, max_depth=3, min_samples_split=4 ................\n",
      "[CV] . criterion=gini, max_depth=3, min_samples_split=4, total=   0.3s\n",
      "[CV] criterion=gini, max_depth=3, min_samples_split=4 ................\n",
      "[CV] . criterion=gini, max_depth=3, min_samples_split=4, total=   0.3s\n",
      "[CV] criterion=gini, max_depth=3, min_samples_split=8 ................\n",
      "[CV] . criterion=gini, max_depth=3, min_samples_split=8, total=   0.3s\n",
      "[CV] criterion=gini, max_depth=3, min_samples_split=8 ................\n",
      "[CV] . criterion=gini, max_depth=3, min_samples_split=8, total=   0.3s\n",
      "[CV] criterion=gini, max_depth=3, min_samples_split=8 ................\n",
      "[CV] . criterion=gini, max_depth=3, min_samples_split=8, total=   0.3s\n",
      "[CV] criterion=gini, max_depth=3, min_samples_split=8 ................\n",
      "[CV] . criterion=gini, max_depth=3, min_samples_split=8, total=   0.3s\n",
      "[CV] criterion=gini, max_depth=3, min_samples_split=8 ................\n",
      "[CV] . criterion=gini, max_depth=3, min_samples_split=8, total=   0.3s\n",
      "[CV] criterion=gini, max_depth=10, min_samples_split=2 ...............\n",
      "[CV]  criterion=gini, max_depth=10, min_samples_split=2, total=   0.6s\n",
      "[CV] criterion=gini, max_depth=10, min_samples_split=2 ...............\n",
      "[CV]  criterion=gini, max_depth=10, min_samples_split=2, total=   0.6s\n",
      "[CV] criterion=gini, max_depth=10, min_samples_split=2 ...............\n",
      "[CV]  criterion=gini, max_depth=10, min_samples_split=2, total=   0.6s\n",
      "[CV] criterion=gini, max_depth=10, min_samples_split=2 ...............\n",
      "[CV]  criterion=gini, max_depth=10, min_samples_split=2, total=   0.6s\n",
      "[CV] criterion=gini, max_depth=10, min_samples_split=2 ...............\n",
      "[CV]  criterion=gini, max_depth=10, min_samples_split=2, total=   0.6s\n",
      "[CV] criterion=gini, max_depth=10, min_samples_split=4 ...............\n",
      "[CV]  criterion=gini, max_depth=10, min_samples_split=4, total=   0.6s\n",
      "[CV] criterion=gini, max_depth=10, min_samples_split=4 ...............\n",
      "[CV]  criterion=gini, max_depth=10, min_samples_split=4, total=   0.6s\n",
      "[CV] criterion=gini, max_depth=10, min_samples_split=4 ...............\n",
      "[CV]  criterion=gini, max_depth=10, min_samples_split=4, total=   0.6s\n",
      "[CV] criterion=gini, max_depth=10, min_samples_split=4 ...............\n",
      "[CV]  criterion=gini, max_depth=10, min_samples_split=4, total=   0.6s\n",
      "[CV] criterion=gini, max_depth=10, min_samples_split=4 ...............\n",
      "[CV]  criterion=gini, max_depth=10, min_samples_split=4, total=   0.6s\n",
      "[CV] criterion=gini, max_depth=10, min_samples_split=8 ...............\n",
      "[CV]  criterion=gini, max_depth=10, min_samples_split=8, total=   0.6s\n",
      "[CV] criterion=gini, max_depth=10, min_samples_split=8 ...............\n",
      "[CV]  criterion=gini, max_depth=10, min_samples_split=8, total=   0.6s\n",
      "[CV] criterion=gini, max_depth=10, min_samples_split=8 ...............\n",
      "[CV]  criterion=gini, max_depth=10, min_samples_split=8, total=   0.6s\n",
      "[CV] criterion=gini, max_depth=10, min_samples_split=8 ...............\n",
      "[CV]  criterion=gini, max_depth=10, min_samples_split=8, total=   0.6s\n",
      "[CV] criterion=gini, max_depth=10, min_samples_split=8 ...............\n",
      "[CV]  criterion=gini, max_depth=10, min_samples_split=8, total=   0.6s\n",
      "[CV] criterion=gini, max_depth=20, min_samples_split=2 ...............\n",
      "[CV]  criterion=gini, max_depth=20, min_samples_split=2, total=   0.9s\n",
      "[CV] criterion=gini, max_depth=20, min_samples_split=2 ...............\n",
      "[CV]  criterion=gini, max_depth=20, min_samples_split=2, total=   0.9s\n",
      "[CV] criterion=gini, max_depth=20, min_samples_split=2 ...............\n",
      "[CV]  criterion=gini, max_depth=20, min_samples_split=2, total=   0.9s\n",
      "[CV] criterion=gini, max_depth=20, min_samples_split=2 ...............\n",
      "[CV]  criterion=gini, max_depth=20, min_samples_split=2, total=   1.0s\n",
      "[CV] criterion=gini, max_depth=20, min_samples_split=2 ...............\n",
      "[CV]  criterion=gini, max_depth=20, min_samples_split=2, total=   0.9s\n",
      "[CV] criterion=gini, max_depth=20, min_samples_split=4 ...............\n",
      "[CV]  criterion=gini, max_depth=20, min_samples_split=4, total=   0.9s\n",
      "[CV] criterion=gini, max_depth=20, min_samples_split=4 ...............\n",
      "[CV]  criterion=gini, max_depth=20, min_samples_split=4, total=   0.9s\n",
      "[CV] criterion=gini, max_depth=20, min_samples_split=4 ...............\n",
      "[CV]  criterion=gini, max_depth=20, min_samples_split=4, total=   0.9s\n",
      "[CV] criterion=gini, max_depth=20, min_samples_split=4 ...............\n",
      "[CV]  criterion=gini, max_depth=20, min_samples_split=4, total=   0.9s\n",
      "[CV] criterion=gini, max_depth=20, min_samples_split=4 ...............\n",
      "[CV]  criterion=gini, max_depth=20, min_samples_split=4, total=   0.9s\n",
      "[CV] criterion=gini, max_depth=20, min_samples_split=8 ...............\n",
      "[CV]  criterion=gini, max_depth=20, min_samples_split=8, total=   0.9s\n",
      "[CV] criterion=gini, max_depth=20, min_samples_split=8 ...............\n",
      "[CV]  criterion=gini, max_depth=20, min_samples_split=8, total=   0.9s\n",
      "[CV] criterion=gini, max_depth=20, min_samples_split=8 ...............\n",
      "[CV]  criterion=gini, max_depth=20, min_samples_split=8, total=   0.9s\n",
      "[CV] criterion=gini, max_depth=20, min_samples_split=8 ...............\n",
      "[CV]  criterion=gini, max_depth=20, min_samples_split=8, total=   0.9s\n",
      "[CV] criterion=gini, max_depth=20, min_samples_split=8 ...............\n",
      "[CV]  criterion=gini, max_depth=20, min_samples_split=8, total=   0.9s\n",
      "[CV] criterion=entropy, max_depth=3, min_samples_split=2 .............\n",
      "[CV]  criterion=entropy, max_depth=3, min_samples_split=2, total=   0.3s\n",
      "[CV] criterion=entropy, max_depth=3, min_samples_split=2 .............\n",
      "[CV]  criterion=entropy, max_depth=3, min_samples_split=2, total=   0.3s\n",
      "[CV] criterion=entropy, max_depth=3, min_samples_split=2 .............\n",
      "[CV]  criterion=entropy, max_depth=3, min_samples_split=2, total=   0.3s\n",
      "[CV] criterion=entropy, max_depth=3, min_samples_split=2 .............\n",
      "[CV]  criterion=entropy, max_depth=3, min_samples_split=2, total=   0.3s\n",
      "[CV] criterion=entropy, max_depth=3, min_samples_split=2 .............\n",
      "[CV]  criterion=entropy, max_depth=3, min_samples_split=2, total=   0.3s\n",
      "[CV] criterion=entropy, max_depth=3, min_samples_split=4 .............\n",
      "[CV]  criterion=entropy, max_depth=3, min_samples_split=4, total=   0.3s\n",
      "[CV] criterion=entropy, max_depth=3, min_samples_split=4 .............\n",
      "[CV]  criterion=entropy, max_depth=3, min_samples_split=4, total=   0.3s\n",
      "[CV] criterion=entropy, max_depth=3, min_samples_split=4 .............\n",
      "[CV]  criterion=entropy, max_depth=3, min_samples_split=4, total=   0.3s\n",
      "[CV] criterion=entropy, max_depth=3, min_samples_split=4 .............\n",
      "[CV]  criterion=entropy, max_depth=3, min_samples_split=4, total=   0.3s\n",
      "[CV] criterion=entropy, max_depth=3, min_samples_split=4 .............\n",
      "[CV]  criterion=entropy, max_depth=3, min_samples_split=4, total=   0.3s\n",
      "[CV] criterion=entropy, max_depth=3, min_samples_split=8 .............\n",
      "[CV]  criterion=entropy, max_depth=3, min_samples_split=8, total=   0.3s\n",
      "[CV] criterion=entropy, max_depth=3, min_samples_split=8 .............\n",
      "[CV]  criterion=entropy, max_depth=3, min_samples_split=8, total=   0.3s\n",
      "[CV] criterion=entropy, max_depth=3, min_samples_split=8 .............\n",
      "[CV]  criterion=entropy, max_depth=3, min_samples_split=8, total=   0.3s\n",
      "[CV] criterion=entropy, max_depth=3, min_samples_split=8 .............\n",
      "[CV]  criterion=entropy, max_depth=3, min_samples_split=8, total=   0.3s\n",
      "[CV] criterion=entropy, max_depth=3, min_samples_split=8 .............\n",
      "[CV]  criterion=entropy, max_depth=3, min_samples_split=8, total=   0.3s\n",
      "[CV] criterion=entropy, max_depth=10, min_samples_split=2 ............\n",
      "[CV]  criterion=entropy, max_depth=10, min_samples_split=2, total=   0.6s\n",
      "[CV] criterion=entropy, max_depth=10, min_samples_split=2 ............\n",
      "[CV]  criterion=entropy, max_depth=10, min_samples_split=2, total=   0.6s\n",
      "[CV] criterion=entropy, max_depth=10, min_samples_split=2 ............\n",
      "[CV]  criterion=entropy, max_depth=10, min_samples_split=2, total=   0.6s\n",
      "[CV] criterion=entropy, max_depth=10, min_samples_split=2 ............\n",
      "[CV]  criterion=entropy, max_depth=10, min_samples_split=2, total=   0.6s\n",
      "[CV] criterion=entropy, max_depth=10, min_samples_split=2 ............\n",
      "[CV]  criterion=entropy, max_depth=10, min_samples_split=2, total=   0.6s\n",
      "[CV] criterion=entropy, max_depth=10, min_samples_split=4 ............\n",
      "[CV]  criterion=entropy, max_depth=10, min_samples_split=4, total=   0.6s\n",
      "[CV] criterion=entropy, max_depth=10, min_samples_split=4 ............\n",
      "[CV]  criterion=entropy, max_depth=10, min_samples_split=4, total=   0.6s\n",
      "[CV] criterion=entropy, max_depth=10, min_samples_split=4 ............\n",
      "[CV]  criterion=entropy, max_depth=10, min_samples_split=4, total=   0.6s\n",
      "[CV] criterion=entropy, max_depth=10, min_samples_split=4 ............\n",
      "[CV]  criterion=entropy, max_depth=10, min_samples_split=4, total=   0.6s\n",
      "[CV] criterion=entropy, max_depth=10, min_samples_split=4 ............\n",
      "[CV]  criterion=entropy, max_depth=10, min_samples_split=4, total=   0.6s\n",
      "[CV] criterion=entropy, max_depth=10, min_samples_split=8 ............\n",
      "[CV]  criterion=entropy, max_depth=10, min_samples_split=8, total=   0.6s\n",
      "[CV] criterion=entropy, max_depth=10, min_samples_split=8 ............\n",
      "[CV]  criterion=entropy, max_depth=10, min_samples_split=8, total=   0.6s\n",
      "[CV] criterion=entropy, max_depth=10, min_samples_split=8 ............\n",
      "[CV]  criterion=entropy, max_depth=10, min_samples_split=8, total=   0.6s\n",
      "[CV] criterion=entropy, max_depth=10, min_samples_split=8 ............\n",
      "[CV]  criterion=entropy, max_depth=10, min_samples_split=8, total=   0.6s\n",
      "[CV] criterion=entropy, max_depth=10, min_samples_split=8 ............\n",
      "[CV]  criterion=entropy, max_depth=10, min_samples_split=8, total=   0.6s\n",
      "[CV] criterion=entropy, max_depth=20, min_samples_split=2 ............\n",
      "[CV]  criterion=entropy, max_depth=20, min_samples_split=2, total=   1.0s\n",
      "[CV] criterion=entropy, max_depth=20, min_samples_split=2 ............\n",
      "[CV]  criterion=entropy, max_depth=20, min_samples_split=2, total=   1.0s\n",
      "[CV] criterion=entropy, max_depth=20, min_samples_split=2 ............\n",
      "[CV]  criterion=entropy, max_depth=20, min_samples_split=2, total=   1.0s\n",
      "[CV] criterion=entropy, max_depth=20, min_samples_split=2 ............\n",
      "[CV]  criterion=entropy, max_depth=20, min_samples_split=2, total=   1.0s\n",
      "[CV] criterion=entropy, max_depth=20, min_samples_split=2 ............\n",
      "[CV]  criterion=entropy, max_depth=20, min_samples_split=2, total=   1.0s\n",
      "[CV] criterion=entropy, max_depth=20, min_samples_split=4 ............\n",
      "[CV]  criterion=entropy, max_depth=20, min_samples_split=4, total=   1.0s\n",
      "[CV] criterion=entropy, max_depth=20, min_samples_split=4 ............\n",
      "[CV]  criterion=entropy, max_depth=20, min_samples_split=4, total=   1.0s\n",
      "[CV] criterion=entropy, max_depth=20, min_samples_split=4 ............\n",
      "[CV]  criterion=entropy, max_depth=20, min_samples_split=4, total=   1.0s\n",
      "[CV] criterion=entropy, max_depth=20, min_samples_split=4 ............\n",
      "[CV]  criterion=entropy, max_depth=20, min_samples_split=4, total=   1.0s\n",
      "[CV] criterion=entropy, max_depth=20, min_samples_split=4 ............\n",
      "[CV]  criterion=entropy, max_depth=20, min_samples_split=4, total=   1.0s\n",
      "[CV] criterion=entropy, max_depth=20, min_samples_split=8 ............\n",
      "[CV]  criterion=entropy, max_depth=20, min_samples_split=8, total=   1.0s\n",
      "[CV] criterion=entropy, max_depth=20, min_samples_split=8 ............\n",
      "[CV]  criterion=entropy, max_depth=20, min_samples_split=8, total=   1.0s\n",
      "[CV] criterion=entropy, max_depth=20, min_samples_split=8 ............\n",
      "[CV]  criterion=entropy, max_depth=20, min_samples_split=8, total=   1.0s\n",
      "[CV] criterion=entropy, max_depth=20, min_samples_split=8 ............\n",
      "[CV]  criterion=entropy, max_depth=20, min_samples_split=8, total=   1.0s\n",
      "[CV] criterion=entropy, max_depth=20, min_samples_split=8 ............\n",
      "[CV]  criterion=entropy, max_depth=20, min_samples_split=8, total=   1.0s\n"
     ]
    },
    {
     "name": "stderr",
     "output_type": "stream",
     "text": [
      "[Parallel(n_jobs=1)]: Done  90 out of  90 | elapsed:   54.3s finished\n"
     ]
    },
    {
     "name": "stdout",
     "output_type": "stream",
     "text": [
      "Elasped time:  55.543402910232544\n"
     ]
    }
   ],
   "source": [
    "# No parallel\n",
    "start = time()\n",
    "clf = GridSearchCV(model, parameters, verbose=2, scoring='roc_auc', \n",
    "                   cv=StratifiedKFold(shuffle=True), n_jobs=1)\n",
    "clf.fit(X_train, y_train)\n",
    "elasped = time() - start\n",
    "print('Elasped time: ', elasped)"
   ]
  },
  {
   "cell_type": "code",
   "execution_count": 5,
   "metadata": {},
   "outputs": [
    {
     "name": "stdout",
     "output_type": "stream",
     "text": [
      "Fitting 5 folds for each of 18 candidates, totalling 90 fits\n"
     ]
    },
    {
     "name": "stderr",
     "output_type": "stream",
     "text": [
      "[Parallel(n_jobs=4)]: Using backend LokyBackend with 4 concurrent workers.\n",
      "[Parallel(n_jobs=4)]: Done  17 tasks      | elapsed:    2.9s\n",
      "[Parallel(n_jobs=4)]: Done  90 out of  90 | elapsed:   19.2s finished\n"
     ]
    },
    {
     "name": "stdout",
     "output_type": "stream",
     "text": [
      "Elasped time:  20.425665855407715\n"
     ]
    }
   ],
   "source": [
    "# Parallel on 4 CPUs\n",
    "start = time()\n",
    "clf = GridSearchCV(model, parameters, verbose=4, scoring='roc_auc', \n",
    "                   cv=StratifiedKFold(shuffle=True), n_jobs=4)\n",
    "clf.fit(X_train, y_train)\n",
    "elasped = time() - start\n",
    "print('Elasped time: ', elasped)"
   ]
  },
  {
   "cell_type": "code",
   "execution_count": 6,
   "metadata": {},
   "outputs": [
    {
     "name": "stdout",
     "output_type": "stream",
     "text": [
      "Fitting 5 folds for each of 18 candidates, totalling 90 fits\n"
     ]
    },
    {
     "name": "stderr",
     "output_type": "stream",
     "text": [
      "[Parallel(n_jobs=8)]: Using backend LokyBackend with 8 concurrent workers.\n",
      "[Parallel(n_jobs=8)]: Done   9 tasks      | elapsed:    2.1s\n",
      "[Parallel(n_jobs=8)]: Done  90 out of  90 | elapsed:   14.9s finished\n"
     ]
    },
    {
     "name": "stdout",
     "output_type": "stream",
     "text": [
      "Elasped time:  16.296517610549927\n"
     ]
    }
   ],
   "source": [
    "# Parallel on 8 CPUs\n",
    "start = time()\n",
    "clf = GridSearchCV(model, parameters, verbose=4, scoring='roc_auc', \n",
    "                   cv=StratifiedKFold(shuffle=True), n_jobs=8)\n",
    "clf.fit(X_train, y_train)\n",
    "elasped = time() - start\n",
    "print('Elasped time: ', elasped)"
   ]
  },
  {
   "cell_type": "code",
   "execution_count": null,
   "metadata": {},
   "outputs": [],
   "source": []
  }
 ],
 "metadata": {
  "kernelspec": {
   "display_name": "Python 3",
   "language": "python",
   "name": "python3"
  },
  "language_info": {
   "codemirror_mode": {
    "name": "ipython",
    "version": 3
   },
   "file_extension": ".py",
   "mimetype": "text/x-python",
   "name": "python",
   "nbconvert_exporter": "python",
   "pygments_lexer": "ipython3",
   "version": "3.7.6"
  }
 },
 "nbformat": 4,
 "nbformat_minor": 4
}
